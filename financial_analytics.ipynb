{
  "nbformat": 4,
  "nbformat_minor": 0,
  "metadata": {
    "colab": {
      "name": "financial analysis.ipynb",
      "provenance": [],
      "authorship_tag": "ABX9TyPuKSYFCw/3ak6NXJyBdeas",
      "include_colab_link": true
    },
    "kernelspec": {
      "name": "ir",
      "display_name": "R"
    },
    "language_info": {
      "name": "R"
    }
  },
  "cells": [
    {
      "cell_type": "markdown",
      "metadata": {
        "id": "view-in-github",
        "colab_type": "text"
      },
      "source": [
        "<a href=\"https://colab.research.google.com/github/arnabmy/Data-Analytics-in-Finance/blob/main/financial_analytics.ipynb\" target=\"_parent\"><img src=\"https://colab.research.google.com/assets/colab-badge.svg\" alt=\"Open In Colab\"/></a>"
      ]
    },
    {
      "cell_type": "markdown",
      "metadata": {
        "id": "dHHoBZvefSvl"
      },
      "source": [
        "Introduction to Financial Analytics and Time Series Data"
      ]
    },
    {
      "cell_type": "markdown",
      "metadata": {
        "id": "hchcQYQLff7z"
      },
      "source": [
        "Develop a basic understanding about financial analytics: its definition and specific examples\n",
        "\n",
        "Utilize an overview framework of financial analytics to generalize the procedure of financial analysis: the source of data, tools to analyze it, and its application for enhancing operating performance (from automate to transform and automate)\n",
        "\n",
        "\n",
        "Understand time series data and how to deal with time series data using R codes to generate forecasting models that can be applied to enhance business performance"
      ]
    },
    {
      "cell_type": "code",
      "metadata": {
        "colab": {
          "base_uri": "https://localhost:8080/"
        },
        "id": "xeuzSh2_f-I6",
        "outputId": "c73dbf1d-ec58-42c2-dd79-534edc1d338b"
      },
      "source": [
        "install.packages(\"xts\") \n",
        "install.packages(\"tidyverse\") \n",
        "install.packages(\"lubridate\") \n",
        "install.packages(\"forecast\") "
      ],
      "execution_count": 3,
      "outputs": [
        {
          "output_type": "stream",
          "text": [
            "Installing package into ‘/usr/local/lib/R/site-library’\n",
            "(as ‘lib’ is unspecified)\n",
            "\n",
            "Installing package into ‘/usr/local/lib/R/site-library’\n",
            "(as ‘lib’ is unspecified)\n",
            "\n",
            "Installing package into ‘/usr/local/lib/R/site-library’\n",
            "(as ‘lib’ is unspecified)\n",
            "\n",
            "Installing package into ‘/usr/local/lib/R/site-library’\n",
            "(as ‘lib’ is unspecified)\n",
            "\n",
            "also installing the dependency ‘tseries’\n",
            "\n",
            "\n"
          ],
          "name": "stderr"
        }
      ]
    },
    {
      "cell_type": "code",
      "metadata": {
        "colab": {
          "base_uri": "https://localhost:8080/"
        },
        "id": "C44QRXS4fMSs",
        "outputId": "7aaaea02-6bc7-45a9-d3e8-ef39870c5b05"
      },
      "source": [
        "# SUPPRESS PACKAGE WARNINGS\n",
        "quietly <- suppressPackageStartupMessages\n",
        "\n",
        "# DISABLE SCIENTIFIC NOTATION\n",
        "options(scipen = 9999)\n",
        "\n",
        "# LOAD PACKAGES SUPRESS WARNINGS\n",
        "quietly(library(xts))\n",
        "quietly(library(tidyverse))\n",
        "quietly(library(lubridate))\n",
        "quietly(library(forecast))"
      ],
      "execution_count": 4,
      "outputs": [
        {
          "output_type": "stream",
          "text": [
            "Warning message in system(\"timedatectl\", intern = TRUE):\n",
            "“running command 'timedatectl' had status 1”\n"
          ],
          "name": "stderr"
        }
      ]
    },
    {
      "cell_type": "markdown",
      "metadata": {
        "id": "TsyT7lfBh5Ut"
      },
      "source": [
        "Data Import and exploration"
      ]
    },
    {
      "cell_type": "code",
      "metadata": {
        "colab": {
          "base_uri": "https://localhost:8080/"
        },
        "id": "ZxZPfXHKfsw-",
        "outputId": "77e2d5bf-6e00-48bf-838d-0007fc619d88"
      },
      "source": [
        " # Import the kraken dataset as kraken_df\n",
        " kraken_df = read_csv(\"/content/sample_data/kraken.csv\")"
      ],
      "execution_count": 5,
      "outputs": [
        {
          "output_type": "stream",
          "text": [
            "\u001b[1m\u001b[1mRows: \u001b[1m\u001b[22m\u001b[34m\u001b[34m19285\u001b[34m\u001b[39m \u001b[1m\u001b[1mColumns: \u001b[1m\u001b[22m\u001b[34m\u001b[34m8\u001b[34m\u001b[39m\n",
            "\n",
            "\u001b[36m──\u001b[39m \u001b[1m\u001b[1mColumn specification\u001b[1m\u001b[22m \u001b[36m────────────────────────────────────────────────────────\u001b[39m\n",
            "\u001b[1mDelimiter:\u001b[22m \",\"\n",
            "\u001b[31mchr\u001b[39m  (2): crypto, trend\n",
            "\u001b[32mdbl\u001b[39m  (3): pct_change, price, volume\n",
            "\u001b[33mlgl\u001b[39m  (2): all_time_high, new_crypto\n",
            "\u001b[34mdttm\u001b[39m (1): datetime\n",
            "\n",
            "\n",
            "\u001b[36mℹ\u001b[39m Use \u001b[30m\u001b[47m\u001b[30m\u001b[47m`spec()`\u001b[47m\u001b[30m\u001b[49m\u001b[39m to retrieve the full column specification for this data.\n",
            "\u001b[36mℹ\u001b[39m Specify the column types or set \u001b[30m\u001b[47m\u001b[30m\u001b[47m`show_col_types = FALSE`\u001b[47m\u001b[30m\u001b[49m\u001b[39m to quiet this message.\n",
            "\n"
          ],
          "name": "stderr"
        }
      ]
    },
    {
      "cell_type": "code",
      "metadata": {
        "colab": {
          "base_uri": "https://localhost:8080/",
          "height": 286
        },
        "id": "xkfX6F_riI0W",
        "outputId": "e078458d-d2c7-4e50-e756-8d8e50a87998"
      },
      "source": [
        "head(kraken_df)"
      ],
      "execution_count": 6,
      "outputs": [
        {
          "output_type": "display_data",
          "data": {
            "text/plain": [
              "  datetime            crypto pct_change price      volume    trend\n",
              "1 2020-08-05 03:48:49 XBT    0.0040     11194.0000 111100000 down \n",
              "2 2020-08-05 03:48:49 ETH    0.0080       389.8100  68800000 up   \n",
              "3 2020-08-05 03:48:49 XRP    0.0320         0.3010  20300000 down \n",
              "4 2020-08-05 03:48:49 USDT   0.0001         1.0005  18600000 down \n",
              "5 2020-08-05 03:48:49 LINK   0.0650         9.8602  14800000 up   \n",
              "6 2020-08-05 03:48:49 XTZ    0.0540         3.2424  10300000 up   \n",
              "  all_time_high new_crypto\n",
              "1 FALSE         FALSE     \n",
              "2 FALSE         FALSE     \n",
              "3 FALSE         FALSE     \n",
              "4 FALSE         FALSE     \n",
              "5 FALSE         FALSE     \n",
              "6 FALSE         FALSE     "
            ],
            "text/latex": "A tibble: 6 × 8\n\\begin{tabular}{llllllll}\n datetime & crypto & pct\\_change & price & volume & trend & all\\_time\\_high & new\\_crypto\\\\\n <dttm> & <chr> & <dbl> & <dbl> & <dbl> & <chr> & <lgl> & <lgl>\\\\\n\\hline\n\t 2020-08-05 03:48:49 & XBT  & 0.0040 & 11194.0000 & 111100000 & down & FALSE & FALSE\\\\\n\t 2020-08-05 03:48:49 & ETH  & 0.0080 &   389.8100 &  68800000 & up   & FALSE & FALSE\\\\\n\t 2020-08-05 03:48:49 & XRP  & 0.0320 &     0.3010 &  20300000 & down & FALSE & FALSE\\\\\n\t 2020-08-05 03:48:49 & USDT & 0.0001 &     1.0005 &  18600000 & down & FALSE & FALSE\\\\\n\t 2020-08-05 03:48:49 & LINK & 0.0650 &     9.8602 &  14800000 & up   & FALSE & FALSE\\\\\n\t 2020-08-05 03:48:49 & XTZ  & 0.0540 &     3.2424 &  10300000 & up   & FALSE & FALSE\\\\\n\\end{tabular}\n",
            "text/markdown": "\nA tibble: 6 × 8\n\n| datetime &lt;dttm&gt; | crypto &lt;chr&gt; | pct_change &lt;dbl&gt; | price &lt;dbl&gt; | volume &lt;dbl&gt; | trend &lt;chr&gt; | all_time_high &lt;lgl&gt; | new_crypto &lt;lgl&gt; |\n|---|---|---|---|---|---|---|---|\n| 2020-08-05 03:48:49 | XBT  | 0.0040 | 11194.0000 | 111100000 | down | FALSE | FALSE |\n| 2020-08-05 03:48:49 | ETH  | 0.0080 |   389.8100 |  68800000 | up   | FALSE | FALSE |\n| 2020-08-05 03:48:49 | XRP  | 0.0320 |     0.3010 |  20300000 | down | FALSE | FALSE |\n| 2020-08-05 03:48:49 | USDT | 0.0001 |     1.0005 |  18600000 | down | FALSE | FALSE |\n| 2020-08-05 03:48:49 | LINK | 0.0650 |     9.8602 |  14800000 | up   | FALSE | FALSE |\n| 2020-08-05 03:48:49 | XTZ  | 0.0540 |     3.2424 |  10300000 | up   | FALSE | FALSE |\n\n",
            "text/html": [
              "<table class=\"dataframe\">\n",
              "<caption>A tibble: 6 × 8</caption>\n",
              "<thead>\n",
              "\t<tr><th scope=col>datetime</th><th scope=col>crypto</th><th scope=col>pct_change</th><th scope=col>price</th><th scope=col>volume</th><th scope=col>trend</th><th scope=col>all_time_high</th><th scope=col>new_crypto</th></tr>\n",
              "\t<tr><th scope=col>&lt;dttm&gt;</th><th scope=col>&lt;chr&gt;</th><th scope=col>&lt;dbl&gt;</th><th scope=col>&lt;dbl&gt;</th><th scope=col>&lt;dbl&gt;</th><th scope=col>&lt;chr&gt;</th><th scope=col>&lt;lgl&gt;</th><th scope=col>&lt;lgl&gt;</th></tr>\n",
              "</thead>\n",
              "<tbody>\n",
              "\t<tr><td>2020-08-05 03:48:49</td><td>XBT </td><td>0.0040</td><td>11194.0000</td><td>111100000</td><td>down</td><td>FALSE</td><td>FALSE</td></tr>\n",
              "\t<tr><td>2020-08-05 03:48:49</td><td>ETH </td><td>0.0080</td><td>  389.8100</td><td> 68800000</td><td>up  </td><td>FALSE</td><td>FALSE</td></tr>\n",
              "\t<tr><td>2020-08-05 03:48:49</td><td>XRP </td><td>0.0320</td><td>    0.3010</td><td> 20300000</td><td>down</td><td>FALSE</td><td>FALSE</td></tr>\n",
              "\t<tr><td>2020-08-05 03:48:49</td><td>USDT</td><td>0.0001</td><td>    1.0005</td><td> 18600000</td><td>down</td><td>FALSE</td><td>FALSE</td></tr>\n",
              "\t<tr><td>2020-08-05 03:48:49</td><td>LINK</td><td>0.0650</td><td>    9.8602</td><td> 14800000</td><td>up  </td><td>FALSE</td><td>FALSE</td></tr>\n",
              "\t<tr><td>2020-08-05 03:48:49</td><td>XTZ </td><td>0.0540</td><td>    3.2424</td><td> 10300000</td><td>up  </td><td>FALSE</td><td>FALSE</td></tr>\n",
              "</tbody>\n",
              "</table>\n"
            ]
          },
          "metadata": {
            "tags": []
          }
        }
      ]
    },
    {
      "cell_type": "markdown",
      "metadata": {
        "id": "urbJlBfHiWHz"
      },
      "source": [
        "Data Pre-processing\n",
        "\n",
        "\n",
        "We will do some variable convertion in the following two cells:\n",
        "\n",
        "Change the trend variable to numeric (up/down/flat to 1/-1/0)\n",
        "\n",
        "Update the datetime object to two varibles, date and time (hours-minutes-seconds)\n",
        "\n",
        "Make the crypto variable from character to factor\n",
        "\n",
        "Do binary encoding on all_time_high and new_crypto variables (TRUE = 1, FALSE = 0)"
      ]
    },
    {
      "cell_type": "code",
      "metadata": {
        "id": "B_KXCaWViOHQ"
      },
      "source": [
        "kraken_df$trend = kraken_df$trend %>% \n",
        "                    str_replace_all(\"up\",\"1\") %>%\n",
        "                    str_replace_all(\"down\",\"2\") %>%\n",
        "                    str_replace_all(\"flat\",\"0\") %>%\n",
        "                    as.numeric()"
      ],
      "execution_count": 8,
      "outputs": []
    },
    {
      "cell_type": "code",
      "metadata": {
        "id": "40Ue6fs0i84q"
      },
      "source": [
        "kraken_df$date = as.Date(kraken_df$datetime)\n",
        "kraken_df$time = format(kraken_df$datetime,\"%H:%M:%S\")\n",
        "kraken_df$crypto = as_factor(kraken_df$crypto)\n",
        "kraken_df$all_time_high = as.numeric(kraken_df$all_time_high)\n",
        "kraken_df$new_crypto = as.numeric(kraken_df$new_crypto)\n"
      ],
      "execution_count": 9,
      "outputs": []
    },
    {
      "cell_type": "code",
      "metadata": {
        "colab": {
          "base_uri": "https://localhost:8080/",
          "height": 156
        },
        "id": "4lWkOK-AkBlJ",
        "outputId": "5a62d6a9-9baf-4a4f-ecc2-e5fdf136a204"
      },
      "source": [
        "# Let's check out the summary statistics of variables we have:\n",
        "summary(kraken_df[c(\"date\",\"crypto\",\"price\",\"volume\")])"
      ],
      "execution_count": 10,
      "outputs": [
        {
          "output_type": "display_data",
          "data": {
            "text/plain": [
              "      date                crypto          price               volume         \n",
              " Min.   :2017-06-12   XBT    : 1053   Min.   :    0.001   Min.   :      518  \n",
              " 1st Qu.:2018-05-16   ETH    : 1053   1st Qu.:    1.000   1st Qu.:   286709  \n",
              " Median :2019-04-01   XRP    : 1053   Median :   11.560   Median :  1090000  \n",
              " Mean   :2019-03-06   USDT   : 1053   Mean   :  487.156   Mean   : 11007116  \n",
              " 3rd Qu.:2020-01-19   LTC    : 1053   3rd Qu.:  114.770   3rd Qu.:  4440000  \n",
              " Max.   :2020-08-05   XLM    : 1053   Max.   :19020.000   Max.   :829000000  \n",
              "                      (Other):12967                                          "
            ]
          },
          "metadata": {
            "tags": []
          }
        }
      ]
    },
    {
      "cell_type": "code",
      "metadata": {
        "colab": {
          "base_uri": "https://localhost:8080/",
          "height": 139
        },
        "id": "AUKVSs1skVvc",
        "outputId": "f332283c-2439-485f-9cb9-a17ae9750639"
      },
      "source": [
        "summary(kraken_df[c(\"trend\",\"pct_change\",\"all_time_high\", \"new_crypto\")])"
      ],
      "execution_count": 11,
      "outputs": [
        {
          "output_type": "display_data",
          "data": {
            "text/plain": [
              "     trend         pct_change      all_time_high        new_crypto      \n",
              " Min.   :0.000   Min.   :0.00000   Min.   :0.000000   Min.   :0.000000  \n",
              " 1st Qu.:1.000   1st Qu.:0.00960   1st Qu.:0.000000   1st Qu.:0.000000  \n",
              " Median :1.000   Median :0.02480   Median :0.000000   Median :0.000000  \n",
              " Mean   :1.452   Mean   :0.04029   Mean   :0.007156   Mean   :0.001141  \n",
              " 3rd Qu.:2.000   3rd Qu.:0.05300   3rd Qu.:0.000000   3rd Qu.:0.000000  \n",
              " Max.   :2.000   Max.   :1.07400   Max.   :1.000000   Max.   :1.000000  "
            ]
          },
          "metadata": {
            "tags": []
          }
        }
      ]
    },
    {
      "cell_type": "code",
      "metadata": {
        "id": "AOAlsvF2ka1m"
      },
      "source": [
        ""
      ],
      "execution_count": null,
      "outputs": []
    }
  ]
}